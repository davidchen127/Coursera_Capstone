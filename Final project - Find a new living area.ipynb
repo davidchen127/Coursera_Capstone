{
 "metadata": {
  "language_info": {
   "codemirror_mode": {
    "name": "ipython",
    "version": 3
   },
   "file_extension": ".py",
   "mimetype": "text/x-python",
   "name": "python",
   "nbconvert_exporter": "python",
   "pygments_lexer": "ipython3",
   "version": 3
  },
  "orig_nbformat": 2
 },
 "nbformat": 4,
 "nbformat_minor": 2,
 "cells": [
  {
   "source": [
    "# Final Project of Applied Data Science Capstone\n",
    "# - Find a new living area in Toronto"
   ],
   "cell_type": "markdown",
   "metadata": {}
  },
  {
   "source": [
    "## 1. Introduction\n",
    "Based on the results of previous weeks, we have the data about the venues in Toronto. Now it's time to help David to decide where to move so he can start looking for apartments in that area.\n",
    "David is a software engineer and he has a car. Normally, he works from home, but he sometimes needs to go to the office for meetings. Therefore, the distance between his home and office is not a problem. What really matters is the the quality of life he will have in the new neighborhood. \n",
    "David likes to taste coffee and he is also a workout fan since college. In addition, he doesn't like to cook because he hates the cooking smell inside the house, so it would be the best if there are tons of restaurants right down the street. "
   ],
   "cell_type": "markdown",
   "metadata": {}
  }
 ]
}