{
 "metadata": {
  "language_info": {
   "codemirror_mode": {
    "name": "ipython",
    "version": 3
   },
   "file_extension": ".py",
   "mimetype": "text/x-python",
   "name": "python",
   "nbconvert_exporter": "python",
   "pygments_lexer": "ipython3",
   "version": 3
  },
  "orig_nbformat": 2
 },
 "nbformat": 4,
 "nbformat_minor": 2,
 "cells": [
  {
   "source": [
    "# Final Project of Applied Data Science Capstone\n",
    "# - Find a new living area in Toronto"
   ],
   "cell_type": "markdown",
   "metadata": {}
  },
  {
   "source": [
    "## 1. Introduction\n",
    "As a real estate agent, we have a new client, David, who just got a new job in Toronto and will have to move there within 2 months. Therefore, he contracted us with this taks to find an ideal place and an apartment for him.\n",
    "\n",
    "David is a software engineer. He works mostly from home and only needs to go to the office for meetings sometimes. Therefore, the distance between his home and office is not a problem. What really matters is the the quality of life he will have in the new neighborhood. \n",
    "\n",
    "David likes to taste coffee and he is also a workout fan since college. In addition, he doesn't like to cook because he hates the cooking smell inside the house, so it would be the best if there are tons of restaurants right down the street. However, David is allergic to many things so it would be better to avoid living in an area that has too many parks or natural environment.\n",
    "\n"
   ],
   "cell_type": "markdown",
   "metadata": {}
  },
  {
   "source": [
    "## 2. Data for this project\n",
    "To help David find the ideal place to live, we will need the facilities data from Toronto, which we will get via Foursquare. After retrieving the data, we will perform a clustering process to filter the top 3 areas for David to choose and that will be the end results of this project."
   ],
   "cell_type": "markdown",
   "metadata": {}
  }
 ]
}