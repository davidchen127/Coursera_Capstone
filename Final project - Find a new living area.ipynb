{
 "metadata": {
  "language_info": {
   "codemirror_mode": {
    "name": "ipython",
    "version": 3
   },
   "file_extension": ".py",
   "mimetype": "text/x-python",
   "name": "python",
   "nbconvert_exporter": "python",
   "pygments_lexer": "ipython3",
   "version": "3.9.4"
  },
  "orig_nbformat": 2,
  "kernelspec": {
   "name": "python394jvsc74a57bd0d65f8af9b1347936d5c0a715a1a101b7602968bee42a1bc2161adfc924f1cbb0",
   "display_name": "Python 3.9.4 64-bit"
  },
  "metadata": {
   "interpreter": {
    "hash": "d65f8af9b1347936d5c0a715a1a101b7602968bee42a1bc2161adfc924f1cbb0"
   }
  }
 },
 "nbformat": 4,
 "nbformat_minor": 2,
 "cells": [
  {
   "source": [
    "# Final Project of Applied Data Science Capstone\n",
    "# - Find a new living area in Toronto"
   ],
   "cell_type": "markdown",
   "metadata": {}
  },
  {
   "source": [
    "## 1. Introduction\n",
    "As a real estate agent, we have a new client, David, who just got a new job in Toronto and will have to move there within 2 months. Therefore, he contracted us with this taks to find an ideal place and an apartment for him.\n",
    "\n",
    "David is a software engineer. He works mostly from home and only needs to go to the office for meetings sometimes. Therefore, the distance between his home and office is not a problem. What really matters is the the quality of life he will have in the new neighborhood. \n",
    "\n",
    "David likes to taste coffee and he is also a workout fan since college. In addition, he doesn't like to cook because he hates the cooking smell inside the house, so it would be the best if there are tons of restaurants right down the street. However, David is allergic to many things so it would be better to avoid living in an area that has too many parks or natural environment.\n",
    "\n"
   ],
   "cell_type": "markdown",
   "metadata": {}
  },
  {
   "source": [
    "## 2. Data for this project\n",
    "To help David find the ideal place to live, we will need the facilities data from Toronto, which we will get via Foursquare. After retrieving the data, we will perform a clustering process to filter the top 3 areas for David to choose and that will be the end results of this project."
   ],
   "cell_type": "markdown",
   "metadata": {}
  },
  {
   "source": [
    "## 3. Methods\n",
    "In this sectoin, we will implement the following steps:\n",
    "\n",
    "1. Retrieve necessary location data from Foursquare\n",
    "2. Clean up data\n",
    "3. Perform analaysis and clustering \n",
    "4. Find the top 3 areas that match the customer's needs\n",
    "5. Visualize the top 3 clusters on the map"
   ],
   "cell_type": "markdown",
   "metadata": {}
  },
  {
   "source": [
    "### 3.1 Retrieve necessary location data from Foursquare"
   ],
   "cell_type": "markdown",
   "metadata": {}
  },
  {
   "source": [
    "#### 3.1.1 Import libraries"
   ],
   "cell_type": "markdown",
   "metadata": {}
  },
  {
   "cell_type": "code",
   "execution_count": 75,
   "metadata": {},
   "outputs": [],
   "source": [
    "#!pip install bs4\n",
    "import pandas as pd\n",
    "import numpy as np\n",
    "from bs4 import BeautifulSoup \n",
    "import requests\n",
    "from sklearn.cluster import KMeans\n",
    "import json # library to handle JSON files\n",
    "\n",
    "pd.set_option('display.max_columns', None)\n",
    "pd.set_option('display.max_rows', None)\n",
    "\n",
    "# !conda install -c conda-forge geopy --yes \n",
    "from geopy.geocoders import Nominatim # convert an address into latitude and longitude values\n",
    "from pandas.io.json import json_normalize # tranform JSON file into a pandas dataframe\n",
    "# Matplotlib and associated plotting modules\n",
    "import matplotlib.cm as cm\n",
    "import matplotlib.colors as colors\n",
    "# !conda install -c conda-forge folium=0.5.0 --yes\n",
    "import folium # map rendering library"
   ]
  },
  {
   "source": [
    "#### 3.1.2 Set up credentials for retrieving data from Foursquare"
   ],
   "cell_type": "markdown",
   "metadata": {}
  },
  {
   "cell_type": "code",
   "execution_count": 76,
   "metadata": {},
   "outputs": [],
   "source": [
    "CLIENT_ID = 'ENE1VKZNXDN4D4RAJNRDJNUCLRSGEH5U2KAMX2KZEPHCF0XU' # your Foursquare ID\n",
    "CLIENT_SECRET = 'IKPZTTB1N0CBNVD0SEP2YZPIYULEQBJHNZEKJCEZKNVVZMSA' # your Foursquare Secret\n",
    "ACCESS_TOKEN = 'KWPBEYC2EUHJDCFFZ4JNCN3AX5AEUWYNTPAEDJPX1TYB3NQU' # your FourSquare Access Token\n",
    "VERSION = '20210501' # Foursquare API version\n",
    "LIMIT = 100 # A default Foursquare API limit value"
   ]
  },
  {
   "source": [
    "#### 3.1.3 Get the borough data of Toronto from Wiki"
   ],
   "cell_type": "markdown",
   "metadata": {}
  },
  {
   "cell_type": "code",
   "execution_count": 77,
   "metadata": {},
   "outputs": [],
   "source": [
    "url='https://en.wikipedia.org/wiki/List_of_postal_codes_of_Canada:_M'\n",
    "html_data=requests.get(url).text\n",
    "soup=BeautifulSoup(html_data,'html5lib')\n",
    "table_contents=[]\n",
    "table=soup.find('table')\n",
    "for row in table.findAll('td'):\n",
    "    cell = {}\n",
    "    if row.span.text=='Not assigned':\n",
    "        pass\n",
    "    else:\n",
    "        cell['PostalCode'] = row.p.text[:3]\n",
    "        cell['Borough'] = (row.span.text).split('(')[0]\n",
    "        cell['Neighborhood'] = (((((row.span.text).split('(')[1]).strip(')')).replace(' /',',')).replace(')',' ')).strip(' ')\n",
    "        table_contents.append(cell)"
   ]
  },
  {
   "source": [
    "### 3.2 Clean up data"
   ],
   "cell_type": "markdown",
   "metadata": {}
  },
  {
   "source": [
    "#### 3.2.1 Create a dataframe with the data from wiki"
   ],
   "cell_type": "markdown",
   "metadata": {}
  },
  {
   "cell_type": "code",
   "execution_count": 78,
   "metadata": {},
   "outputs": [
    {
     "output_type": "execute_result",
     "data": {
      "text/plain": [
       "  PostalCode           Borough                      Neighborhood\n",
       "0        M3A        North York                         Parkwoods\n",
       "1        M4A        North York                  Victoria Village\n",
       "2        M5A  Downtown Toronto         Regent Park, Harbourfront\n",
       "3        M6A        North York  Lawrence Manor, Lawrence Heights\n",
       "4        M7A      Queen's Park     Ontario Provincial Government"
      ],
      "text/html": "<div>\n<style scoped>\n    .dataframe tbody tr th:only-of-type {\n        vertical-align: middle;\n    }\n\n    .dataframe tbody tr th {\n        vertical-align: top;\n    }\n\n    .dataframe thead th {\n        text-align: right;\n    }\n</style>\n<table border=\"1\" class=\"dataframe\">\n  <thead>\n    <tr style=\"text-align: right;\">\n      <th></th>\n      <th>PostalCode</th>\n      <th>Borough</th>\n      <th>Neighborhood</th>\n    </tr>\n  </thead>\n  <tbody>\n    <tr>\n      <th>0</th>\n      <td>M3A</td>\n      <td>North York</td>\n      <td>Parkwoods</td>\n    </tr>\n    <tr>\n      <th>1</th>\n      <td>M4A</td>\n      <td>North York</td>\n      <td>Victoria Village</td>\n    </tr>\n    <tr>\n      <th>2</th>\n      <td>M5A</td>\n      <td>Downtown Toronto</td>\n      <td>Regent Park, Harbourfront</td>\n    </tr>\n    <tr>\n      <th>3</th>\n      <td>M6A</td>\n      <td>North York</td>\n      <td>Lawrence Manor, Lawrence Heights</td>\n    </tr>\n    <tr>\n      <th>4</th>\n      <td>M7A</td>\n      <td>Queen's Park</td>\n      <td>Ontario Provincial Government</td>\n    </tr>\n  </tbody>\n</table>\n</div>"
     },
     "metadata": {},
     "execution_count": 78
    }
   ],
   "source": [
    "toronto_data=pd.DataFrame(table_contents)\n",
    "toronto_data['Borough']=toronto_data['Borough'].replace({'Downtown TorontoStn A PO Boxes25 The Esplanade':'Downtown Toronto Stn A',\n",
    "                                             'East TorontoBusiness reply mail Processing Centre969 Eastern':'East Toronto Business',\n",
    "                                             'EtobicokeNorthwest':'Etobicoke Northwest','East YorkEast Toronto':'East York/East Toronto',\n",
    "                                             'MississaugaCanada Post Gateway Processing Centre':'Mississauga'})\n",
    "toronto_data.head()"
   ]
  },
  {
   "source": [
    "#### 3.2.2 Get the latitudes and logitudes to append to the toronto_data"
   ],
   "cell_type": "markdown",
   "metadata": {}
  },
  {
   "cell_type": "code",
   "execution_count": 79,
   "metadata": {},
   "outputs": [],
   "source": [
    "import csv\n",
    "ll=pd.read_csv('Geospatial_Coordinates.csv')\n",
    "\n",
    "toronto_data=toronto_data.set_index('PostalCode').join(ll.set_index('Postal Code'))\n",
    "toronto_data.reset_index(inplace=True)"
   ]
  },
  {
   "source": [
    "#### 3.2.3 Make a function to loop through the neighborhoods"
   ],
   "cell_type": "markdown",
   "metadata": {}
  },
  {
   "cell_type": "code",
   "execution_count": 80,
   "metadata": {},
   "outputs": [],
   "source": [
    "def getNearbyVenues(names, latitudes, longitudes, radius=200):\n",
    "    \n",
    "    venues_list=[]\n",
    "    for name, lat, lng in zip(names, latitudes, longitudes):\n",
    "        # print(name)\n",
    "            \n",
    "        # create the API request URL\n",
    "        url = 'https://api.foursquare.com/v2/venues/explore?&client_id={}&client_secret={}&v={}&ll={},{}&radius={}&limit={}'.format(\n",
    "            CLIENT_ID, \n",
    "            CLIENT_SECRET, \n",
    "            VERSION, \n",
    "            lat, \n",
    "            lng, \n",
    "            radius, \n",
    "            LIMIT)\n",
    "            \n",
    "        # make the GET request\n",
    "        results = requests.get(url).json()[\"response\"]['groups'][0]['items']\n",
    "        \n",
    "        # return only relevant information for each nearby venue\n",
    "        venues_list.append([(\n",
    "            name, \n",
    "            lat, \n",
    "            lng, \n",
    "            v['venue']['name'], \n",
    "            v['venue']['location']['lat'], \n",
    "            v['venue']['location']['lng'],  \n",
    "            v['venue']['categories'][0]['name']) for v in results])\n",
    "\n",
    "    nearby_venues = pd.DataFrame([item for venue_list in venues_list for item in venue_list])\n",
    "    nearby_venues.columns = ['Neighborhood', \n",
    "                  'Neighborhood Latitude', \n",
    "                  'Neighborhood Longitude', \n",
    "                  'Venue', \n",
    "                  'Venue Latitude', \n",
    "                  'Venue Longitude', \n",
    "                  'Venue Category']\n",
    "    \n",
    "    return(nearby_venues)"
   ]
  },
  {
   "source": [
    "#### 3.2.4 Run the function and get the venues in Toronto"
   ],
   "cell_type": "markdown",
   "metadata": {}
  },
  {
   "cell_type": "code",
   "execution_count": 81,
   "metadata": {},
   "outputs": [],
   "source": [
    "toronto_venues=getNearbyVenues(toronto_data['Neighborhood'],toronto_data['Latitude'],toronto_data['Longitude'])"
   ]
  },
  {
   "source": [
    "#### 3.2.5 Get the venues and append to the original dataframe"
   ],
   "cell_type": "markdown",
   "metadata": {}
  },
  {
   "cell_type": "code",
   "execution_count": 217,
   "metadata": {},
   "outputs": [],
   "source": [
    "# one hot encoding\n",
    "toronto_onehot = pd.get_dummies(toronto_venues[['Venue Category']], prefix=\"\", prefix_sep=\"\")\n",
    "# add neighborhood column back to dataframe\n",
    "toronto_onehot['Neighborhood'] = toronto_venues['Neighborhood'] \n",
    "\n",
    "# move neighborhood column to the first column\n",
    "fixed_columns = [toronto_onehot.columns[-1]] + list(toronto_onehot.columns[:-1])\n",
    "toronto_onehot = toronto_onehot[fixed_columns]\n",
    "toronto_grouped = toronto_onehot.groupby('Neighborhood').mean().reset_index()\n",
    "# toronto_grouped.head()"
   ]
  },
  {
   "source": [
    "#### 3.2.6 Merge columns into categories to match the requirement of the customer"
   ],
   "cell_type": "markdown",
   "metadata": {}
  },
  {
   "cell_type": "code",
   "execution_count": 218,
   "metadata": {
    "tags": []
   },
   "outputs": [
    {
     "output_type": "stream",
     "name": "stdout",
     "text": [
      "['Café', 'Coffee Shop']\n"
     ]
    },
    {
     "output_type": "execute_result",
     "data": {
      "text/plain": [
       "                                        Neighborhood  All restaurants  \\\n",
       "0                             Alderwood, Long Branch         0.333333   \n",
       "1    Bathurst Manor, Wilson Heights, Downsview North         0.625000   \n",
       "2                  Bedford Park, Lawrence Manor East         0.750000   \n",
       "3                        Birch Cliff, Cliffside West         0.000000   \n",
       "4  CN Tower, King and Spadina, Railway Lands, Har...         0.000000   \n",
       "\n",
       "   All sports  All coffee  All nature  All bars  Adult Boutique  Art Gallery  \\\n",
       "0         0.0    0.333333         0.0     0.000             0.0          0.0   \n",
       "1         0.0    0.125000         0.0     0.000             0.0          0.0   \n",
       "2         0.0    0.125000         0.0     0.125             0.0          0.0   \n",
       "3         0.0    1.000000         0.0     0.000             0.0          0.0   \n",
       "4         0.0    0.000000         0.0     0.000             0.0          0.0   \n",
       "\n",
       "   Arts & Crafts Store  Auto Workshop  BBQ Joint  Bank  Basketball Court  \\\n",
       "0                  0.0            0.0        0.0   0.0               0.0   \n",
       "1                  0.0            0.0        0.0   0.0               0.0   \n",
       "2                  0.0            0.0        0.0   0.0               0.0   \n",
       "3                  0.0            0.0        0.0   0.0               0.0   \n",
       "4                  0.0            0.0        0.0   0.0               0.0   \n",
       "\n",
       "   Beer Store  Bike Shop  Bookstore  Boutique  Bubble Tea Shop  Building  \\\n",
       "0         0.0        0.0        0.0       0.0              0.0       0.0   \n",
       "1         0.0        0.0        0.0       0.0              0.0       0.0   \n",
       "2         0.0        0.0        0.0       0.0              0.0       0.0   \n",
       "3         0.0        0.0        0.0       0.0              0.0       0.0   \n",
       "4         0.0        0.0        0.0       0.0              0.0       0.0   \n",
       "\n",
       "   Burrito Place  Cheese Shop  Chocolate Shop  Clothing Store  \\\n",
       "0            0.0          0.0             0.0             0.0   \n",
       "1            0.0          0.0             0.0             0.0   \n",
       "2            0.0          0.0             0.0             0.0   \n",
       "3            0.0          0.0             0.0             0.0   \n",
       "4            0.0          0.0             0.0             0.0   \n",
       "\n",
       "   College Rec Center  Comic Shop  Concert Hall  Convenience Store  Creperie  \\\n",
       "0                 0.0         0.0           0.0                0.0       0.0   \n",
       "1                 0.0         0.0           0.0                0.0       0.0   \n",
       "2                 0.0         0.0           0.0                0.0       0.0   \n",
       "3                 0.0         0.0           0.0                0.0       0.0   \n",
       "4                 0.0         0.0           0.0                0.0       0.0   \n",
       "\n",
       "   Cupcake Shop  Deli / Bodega  Department Store  Dessert Shop  \\\n",
       "0           0.0          0.000               0.0           0.0   \n",
       "1           0.0          0.125               0.0           0.0   \n",
       "2           0.0          0.000               0.0           0.0   \n",
       "3           0.0          0.000               0.0           0.0   \n",
       "4           0.0          0.000               0.0           0.0   \n",
       "\n",
       "   Discount Store  Electronics Store  Escape Room  Farmers Market  Field  \\\n",
       "0             0.0                0.0          0.0             0.0    0.0   \n",
       "1             0.0                0.0          0.0             0.0    0.0   \n",
       "2             0.0                0.0          0.0             0.0    0.0   \n",
       "3             0.0                0.0          0.0             0.0    0.0   \n",
       "4             0.0                0.0          0.0             0.0    0.0   \n",
       "\n",
       "   Flower Shop  Furniture / Home Store  Garden  Gas Station  Gastropub  \\\n",
       "0          0.0                     0.0     0.0          0.0        0.0   \n",
       "1          0.0                     0.0     0.0          0.0        0.0   \n",
       "2          0.0                     0.0     0.0          0.0        0.0   \n",
       "3          0.0                     0.0     0.0          0.0        0.0   \n",
       "4          0.0                     0.0     0.0          0.0        0.0   \n",
       "\n",
       "   General Entertainment  General Travel  Gift Shop  Golf Course  \\\n",
       "0                    0.0             0.0        0.0          0.0   \n",
       "1                    0.0             0.0        0.0          0.0   \n",
       "2                    0.0             0.0        0.0          0.0   \n",
       "3                    0.0             0.0        0.0          0.0   \n",
       "4                    0.0             0.0        0.0          0.0   \n",
       "\n",
       "   Grocery Store  Health & Beauty Service  History Museum  Home Service  \\\n",
       "0          0.000                      0.0             0.0           0.0   \n",
       "1          0.125                      0.0             0.0           0.0   \n",
       "2          0.000                      0.0             0.0           0.0   \n",
       "3          0.000                      0.0             0.0           0.0   \n",
       "4          0.000                      0.0             0.0           0.0   \n",
       "\n",
       "   Hotel  Housing Development  Ice Cream Shop  Intersection  Lawyer  \\\n",
       "0    0.0                  0.0             0.0           0.0     0.0   \n",
       "1    0.0                  0.0             0.0           0.0     0.0   \n",
       "2    0.0                  0.0             0.0           0.0     0.0   \n",
       "3    0.0                  0.0             0.0           0.0     0.0   \n",
       "4    0.0                  0.0             0.0           0.0     0.0   \n",
       "\n",
       "   Light Rail Station  Martial Arts School  Movie Theater  Moving Target  \\\n",
       "0                 0.0                  0.0            0.0            0.0   \n",
       "1                 0.0                  0.0            0.0            0.0   \n",
       "2                 0.0                  0.0            0.0            0.0   \n",
       "3                 0.0                  0.0            0.0            0.0   \n",
       "4                 0.0                  0.0            0.0            0.0   \n",
       "\n",
       "   Music Venue  Opera House  Organic Grocery  Performing Arts Venue  \\\n",
       "0          0.0          0.0              0.0                    0.0   \n",
       "1          0.0          0.0              0.0                    0.0   \n",
       "2          0.0          0.0              0.0                    0.0   \n",
       "3          0.0          0.0              0.0                    0.0   \n",
       "4          0.0          0.0              0.0                    1.0   \n",
       "\n",
       "   Pet Store  Pharmacy  Playground  Plaza  Pool  Record Shop  Road  Roof Deck  \\\n",
       "0        0.0  0.333333         0.0    0.0   0.0          0.0   0.0        0.0   \n",
       "1        0.0  0.000000         0.0    0.0   0.0          0.0   0.0        0.0   \n",
       "2        0.0  0.000000         0.0    0.0   0.0          0.0   0.0        0.0   \n",
       "3        0.0  0.000000         0.0    0.0   0.0          0.0   0.0        0.0   \n",
       "4        0.0  0.000000         0.0    0.0   0.0          0.0   0.0        0.0   \n",
       "\n",
       "   Salad Place  Shopping Mall  Shopping Plaza  Smoothie Shop  Spa  \\\n",
       "0          0.0            0.0             0.0            0.0  0.0   \n",
       "1          0.0            0.0             0.0            0.0  0.0   \n",
       "2          0.0            0.0             0.0            0.0  0.0   \n",
       "3          0.0            0.0             0.0            0.0  0.0   \n",
       "4          0.0            0.0             0.0            0.0  0.0   \n",
       "\n",
       "   Supermarket  Supplement Shop  Tea Room  Theater  Thrift / Vintage Store  \\\n",
       "0          0.0              0.0       0.0      0.0                     0.0   \n",
       "1          0.0              0.0       0.0      0.0                     0.0   \n",
       "2          0.0              0.0       0.0      0.0                     0.0   \n",
       "3          0.0              0.0       0.0      0.0                     0.0   \n",
       "4          0.0              0.0       0.0      0.0                     0.0   \n",
       "\n",
       "   Toy / Game Store  Trail  Women's Store  \n",
       "0               0.0    0.0            0.0  \n",
       "1               0.0    0.0            0.0  \n",
       "2               0.0    0.0            0.0  \n",
       "3               0.0    0.0            0.0  \n",
       "4               0.0    0.0            0.0  "
      ],
      "text/html": "<div>\n<style scoped>\n    .dataframe tbody tr th:only-of-type {\n        vertical-align: middle;\n    }\n\n    .dataframe tbody tr th {\n        vertical-align: top;\n    }\n\n    .dataframe thead th {\n        text-align: right;\n    }\n</style>\n<table border=\"1\" class=\"dataframe\">\n  <thead>\n    <tr style=\"text-align: right;\">\n      <th></th>\n      <th>Neighborhood</th>\n      <th>All restaurants</th>\n      <th>All sports</th>\n      <th>All coffee</th>\n      <th>All nature</th>\n      <th>All bars</th>\n      <th>Adult Boutique</th>\n      <th>Art Gallery</th>\n      <th>Arts &amp; Crafts Store</th>\n      <th>Auto Workshop</th>\n      <th>BBQ Joint</th>\n      <th>Bank</th>\n      <th>Basketball Court</th>\n      <th>Beer Store</th>\n      <th>Bike Shop</th>\n      <th>Bookstore</th>\n      <th>Boutique</th>\n      <th>Bubble Tea Shop</th>\n      <th>Building</th>\n      <th>Burrito Place</th>\n      <th>Cheese Shop</th>\n      <th>Chocolate Shop</th>\n      <th>Clothing Store</th>\n      <th>College Rec Center</th>\n      <th>Comic Shop</th>\n      <th>Concert Hall</th>\n      <th>Convenience Store</th>\n      <th>Creperie</th>\n      <th>Cupcake Shop</th>\n      <th>Deli / Bodega</th>\n      <th>Department Store</th>\n      <th>Dessert Shop</th>\n      <th>Discount Store</th>\n      <th>Electronics Store</th>\n      <th>Escape Room</th>\n      <th>Farmers Market</th>\n      <th>Field</th>\n      <th>Flower Shop</th>\n      <th>Furniture / Home Store</th>\n      <th>Garden</th>\n      <th>Gas Station</th>\n      <th>Gastropub</th>\n      <th>General Entertainment</th>\n      <th>General Travel</th>\n      <th>Gift Shop</th>\n      <th>Golf Course</th>\n      <th>Grocery Store</th>\n      <th>Health &amp; Beauty Service</th>\n      <th>History Museum</th>\n      <th>Home Service</th>\n      <th>Hotel</th>\n      <th>Housing Development</th>\n      <th>Ice Cream Shop</th>\n      <th>Intersection</th>\n      <th>Lawyer</th>\n      <th>Light Rail Station</th>\n      <th>Martial Arts School</th>\n      <th>Movie Theater</th>\n      <th>Moving Target</th>\n      <th>Music Venue</th>\n      <th>Opera House</th>\n      <th>Organic Grocery</th>\n      <th>Performing Arts Venue</th>\n      <th>Pet Store</th>\n      <th>Pharmacy</th>\n      <th>Playground</th>\n      <th>Plaza</th>\n      <th>Pool</th>\n      <th>Record Shop</th>\n      <th>Road</th>\n      <th>Roof Deck</th>\n      <th>Salad Place</th>\n      <th>Shopping Mall</th>\n      <th>Shopping Plaza</th>\n      <th>Smoothie Shop</th>\n      <th>Spa</th>\n      <th>Supermarket</th>\n      <th>Supplement Shop</th>\n      <th>Tea Room</th>\n      <th>Theater</th>\n      <th>Thrift / Vintage Store</th>\n      <th>Toy / Game Store</th>\n      <th>Trail</th>\n      <th>Women's Store</th>\n    </tr>\n  </thead>\n  <tbody>\n    <tr>\n      <th>0</th>\n      <td>Alderwood, Long Branch</td>\n      <td>0.333333</td>\n      <td>0.0</td>\n      <td>0.333333</td>\n      <td>0.0</td>\n      <td>0.000</td>\n      <td>0.0</td>\n      <td>0.0</td>\n      <td>0.0</td>\n      <td>0.0</td>\n      <td>0.0</td>\n      <td>0.0</td>\n      <td>0.0</td>\n      <td>0.0</td>\n      <td>0.0</td>\n      <td>0.0</td>\n      <td>0.0</td>\n      <td>0.0</td>\n      <td>0.0</td>\n      <td>0.0</td>\n      <td>0.0</td>\n      <td>0.0</td>\n      <td>0.0</td>\n      <td>0.0</td>\n      <td>0.0</td>\n      <td>0.0</td>\n      <td>0.0</td>\n      <td>0.0</td>\n      <td>0.0</td>\n      <td>0.000</td>\n      <td>0.0</td>\n      <td>0.0</td>\n      <td>0.0</td>\n      <td>0.0</td>\n      <td>0.0</td>\n      <td>0.0</td>\n      <td>0.0</td>\n      <td>0.0</td>\n      <td>0.0</td>\n      <td>0.0</td>\n      <td>0.0</td>\n      <td>0.0</td>\n      <td>0.0</td>\n      <td>0.0</td>\n      <td>0.0</td>\n      <td>0.0</td>\n      <td>0.000</td>\n      <td>0.0</td>\n      <td>0.0</td>\n      <td>0.0</td>\n      <td>0.0</td>\n      <td>0.0</td>\n      <td>0.0</td>\n      <td>0.0</td>\n      <td>0.0</td>\n      <td>0.0</td>\n      <td>0.0</td>\n      <td>0.0</td>\n      <td>0.0</td>\n      <td>0.0</td>\n      <td>0.0</td>\n      <td>0.0</td>\n      <td>0.0</td>\n      <td>0.0</td>\n      <td>0.333333</td>\n      <td>0.0</td>\n      <td>0.0</td>\n      <td>0.0</td>\n      <td>0.0</td>\n      <td>0.0</td>\n      <td>0.0</td>\n      <td>0.0</td>\n      <td>0.0</td>\n      <td>0.0</td>\n      <td>0.0</td>\n      <td>0.0</td>\n      <td>0.0</td>\n      <td>0.0</td>\n      <td>0.0</td>\n      <td>0.0</td>\n      <td>0.0</td>\n      <td>0.0</td>\n      <td>0.0</td>\n      <td>0.0</td>\n    </tr>\n    <tr>\n      <th>1</th>\n      <td>Bathurst Manor, Wilson Heights, Downsview North</td>\n      <td>0.625000</td>\n      <td>0.0</td>\n      <td>0.125000</td>\n      <td>0.0</td>\n      <td>0.000</td>\n      <td>0.0</td>\n      <td>0.0</td>\n      <td>0.0</td>\n      <td>0.0</td>\n      <td>0.0</td>\n      <td>0.0</td>\n      <td>0.0</td>\n      <td>0.0</td>\n      <td>0.0</td>\n      <td>0.0</td>\n      <td>0.0</td>\n      <td>0.0</td>\n      <td>0.0</td>\n      <td>0.0</td>\n      <td>0.0</td>\n      <td>0.0</td>\n      <td>0.0</td>\n      <td>0.0</td>\n      <td>0.0</td>\n      <td>0.0</td>\n      <td>0.0</td>\n      <td>0.0</td>\n      <td>0.0</td>\n      <td>0.125</td>\n      <td>0.0</td>\n      <td>0.0</td>\n      <td>0.0</td>\n      <td>0.0</td>\n      <td>0.0</td>\n      <td>0.0</td>\n      <td>0.0</td>\n      <td>0.0</td>\n      <td>0.0</td>\n      <td>0.0</td>\n      <td>0.0</td>\n      <td>0.0</td>\n      <td>0.0</td>\n      <td>0.0</td>\n      <td>0.0</td>\n      <td>0.0</td>\n      <td>0.125</td>\n      <td>0.0</td>\n      <td>0.0</td>\n      <td>0.0</td>\n      <td>0.0</td>\n      <td>0.0</td>\n      <td>0.0</td>\n      <td>0.0</td>\n      <td>0.0</td>\n      <td>0.0</td>\n      <td>0.0</td>\n      <td>0.0</td>\n      <td>0.0</td>\n      <td>0.0</td>\n      <td>0.0</td>\n      <td>0.0</td>\n      <td>0.0</td>\n      <td>0.0</td>\n      <td>0.000000</td>\n      <td>0.0</td>\n      <td>0.0</td>\n      <td>0.0</td>\n      <td>0.0</td>\n      <td>0.0</td>\n      <td>0.0</td>\n      <td>0.0</td>\n      <td>0.0</td>\n      <td>0.0</td>\n      <td>0.0</td>\n      <td>0.0</td>\n      <td>0.0</td>\n      <td>0.0</td>\n      <td>0.0</td>\n      <td>0.0</td>\n      <td>0.0</td>\n      <td>0.0</td>\n      <td>0.0</td>\n      <td>0.0</td>\n    </tr>\n    <tr>\n      <th>2</th>\n      <td>Bedford Park, Lawrence Manor East</td>\n      <td>0.750000</td>\n      <td>0.0</td>\n      <td>0.125000</td>\n      <td>0.0</td>\n      <td>0.125</td>\n      <td>0.0</td>\n      <td>0.0</td>\n      <td>0.0</td>\n      <td>0.0</td>\n      <td>0.0</td>\n      <td>0.0</td>\n      <td>0.0</td>\n      <td>0.0</td>\n      <td>0.0</td>\n      <td>0.0</td>\n      <td>0.0</td>\n      <td>0.0</td>\n      <td>0.0</td>\n      <td>0.0</td>\n      <td>0.0</td>\n      <td>0.0</td>\n      <td>0.0</td>\n      <td>0.0</td>\n      <td>0.0</td>\n      <td>0.0</td>\n      <td>0.0</td>\n      <td>0.0</td>\n      <td>0.0</td>\n      <td>0.000</td>\n      <td>0.0</td>\n      <td>0.0</td>\n      <td>0.0</td>\n      <td>0.0</td>\n      <td>0.0</td>\n      <td>0.0</td>\n      <td>0.0</td>\n      <td>0.0</td>\n      <td>0.0</td>\n      <td>0.0</td>\n      <td>0.0</td>\n      <td>0.0</td>\n      <td>0.0</td>\n      <td>0.0</td>\n      <td>0.0</td>\n      <td>0.0</td>\n      <td>0.000</td>\n      <td>0.0</td>\n      <td>0.0</td>\n      <td>0.0</td>\n      <td>0.0</td>\n      <td>0.0</td>\n      <td>0.0</td>\n      <td>0.0</td>\n      <td>0.0</td>\n      <td>0.0</td>\n      <td>0.0</td>\n      <td>0.0</td>\n      <td>0.0</td>\n      <td>0.0</td>\n      <td>0.0</td>\n      <td>0.0</td>\n      <td>0.0</td>\n      <td>0.0</td>\n      <td>0.000000</td>\n      <td>0.0</td>\n      <td>0.0</td>\n      <td>0.0</td>\n      <td>0.0</td>\n      <td>0.0</td>\n      <td>0.0</td>\n      <td>0.0</td>\n      <td>0.0</td>\n      <td>0.0</td>\n      <td>0.0</td>\n      <td>0.0</td>\n      <td>0.0</td>\n      <td>0.0</td>\n      <td>0.0</td>\n      <td>0.0</td>\n      <td>0.0</td>\n      <td>0.0</td>\n      <td>0.0</td>\n      <td>0.0</td>\n    </tr>\n    <tr>\n      <th>3</th>\n      <td>Birch Cliff, Cliffside West</td>\n      <td>0.000000</td>\n      <td>0.0</td>\n      <td>1.000000</td>\n      <td>0.0</td>\n      <td>0.000</td>\n      <td>0.0</td>\n      <td>0.0</td>\n      <td>0.0</td>\n      <td>0.0</td>\n      <td>0.0</td>\n      <td>0.0</td>\n      <td>0.0</td>\n      <td>0.0</td>\n      <td>0.0</td>\n      <td>0.0</td>\n      <td>0.0</td>\n      <td>0.0</td>\n      <td>0.0</td>\n      <td>0.0</td>\n      <td>0.0</td>\n      <td>0.0</td>\n      <td>0.0</td>\n      <td>0.0</td>\n      <td>0.0</td>\n      <td>0.0</td>\n      <td>0.0</td>\n      <td>0.0</td>\n      <td>0.0</td>\n      <td>0.000</td>\n      <td>0.0</td>\n      <td>0.0</td>\n      <td>0.0</td>\n      <td>0.0</td>\n      <td>0.0</td>\n      <td>0.0</td>\n      <td>0.0</td>\n      <td>0.0</td>\n      <td>0.0</td>\n      <td>0.0</td>\n      <td>0.0</td>\n      <td>0.0</td>\n      <td>0.0</td>\n      <td>0.0</td>\n      <td>0.0</td>\n      <td>0.0</td>\n      <td>0.000</td>\n      <td>0.0</td>\n      <td>0.0</td>\n      <td>0.0</td>\n      <td>0.0</td>\n      <td>0.0</td>\n      <td>0.0</td>\n      <td>0.0</td>\n      <td>0.0</td>\n      <td>0.0</td>\n      <td>0.0</td>\n      <td>0.0</td>\n      <td>0.0</td>\n      <td>0.0</td>\n      <td>0.0</td>\n      <td>0.0</td>\n      <td>0.0</td>\n      <td>0.0</td>\n      <td>0.000000</td>\n      <td>0.0</td>\n      <td>0.0</td>\n      <td>0.0</td>\n      <td>0.0</td>\n      <td>0.0</td>\n      <td>0.0</td>\n      <td>0.0</td>\n      <td>0.0</td>\n      <td>0.0</td>\n      <td>0.0</td>\n      <td>0.0</td>\n      <td>0.0</td>\n      <td>0.0</td>\n      <td>0.0</td>\n      <td>0.0</td>\n      <td>0.0</td>\n      <td>0.0</td>\n      <td>0.0</td>\n      <td>0.0</td>\n    </tr>\n    <tr>\n      <th>4</th>\n      <td>CN Tower, King and Spadina, Railway Lands, Har...</td>\n      <td>0.000000</td>\n      <td>0.0</td>\n      <td>0.000000</td>\n      <td>0.0</td>\n      <td>0.000</td>\n      <td>0.0</td>\n      <td>0.0</td>\n      <td>0.0</td>\n      <td>0.0</td>\n      <td>0.0</td>\n      <td>0.0</td>\n      <td>0.0</td>\n      <td>0.0</td>\n      <td>0.0</td>\n      <td>0.0</td>\n      <td>0.0</td>\n      <td>0.0</td>\n      <td>0.0</td>\n      <td>0.0</td>\n      <td>0.0</td>\n      <td>0.0</td>\n      <td>0.0</td>\n      <td>0.0</td>\n      <td>0.0</td>\n      <td>0.0</td>\n      <td>0.0</td>\n      <td>0.0</td>\n      <td>0.0</td>\n      <td>0.000</td>\n      <td>0.0</td>\n      <td>0.0</td>\n      <td>0.0</td>\n      <td>0.0</td>\n      <td>0.0</td>\n      <td>0.0</td>\n      <td>0.0</td>\n      <td>0.0</td>\n      <td>0.0</td>\n      <td>0.0</td>\n      <td>0.0</td>\n      <td>0.0</td>\n      <td>0.0</td>\n      <td>0.0</td>\n      <td>0.0</td>\n      <td>0.0</td>\n      <td>0.000</td>\n      <td>0.0</td>\n      <td>0.0</td>\n      <td>0.0</td>\n      <td>0.0</td>\n      <td>0.0</td>\n      <td>0.0</td>\n      <td>0.0</td>\n      <td>0.0</td>\n      <td>0.0</td>\n      <td>0.0</td>\n      <td>0.0</td>\n      <td>0.0</td>\n      <td>0.0</td>\n      <td>0.0</td>\n      <td>0.0</td>\n      <td>1.0</td>\n      <td>0.0</td>\n      <td>0.000000</td>\n      <td>0.0</td>\n      <td>0.0</td>\n      <td>0.0</td>\n      <td>0.0</td>\n      <td>0.0</td>\n      <td>0.0</td>\n      <td>0.0</td>\n      <td>0.0</td>\n      <td>0.0</td>\n      <td>0.0</td>\n      <td>0.0</td>\n      <td>0.0</td>\n      <td>0.0</td>\n      <td>0.0</td>\n      <td>0.0</td>\n      <td>0.0</td>\n      <td>0.0</td>\n      <td>0.0</td>\n      <td>0.0</td>\n    </tr>\n  </tbody>\n</table>\n</div>"
     },
     "metadata": {},
     "execution_count": 218
    }
   ],
   "source": [
    "# Merge all the food related places into one category\n",
    "str_restaurants= [''] * len(toronto_grouped.columns)\n",
    "n=0\n",
    "for index, name in enumerate(toronto_grouped.columns):\n",
    "    if 'Restaurant' in name:\n",
    "        str_restaurants[n]=name\n",
    "        n=n+1\n",
    "while('' in str_restaurants):\n",
    "    str_restaurants.remove('')\n",
    "str_restaurants.extend(['Bakery','Breakfast Spot','Burger Joint','Diner','Fish & Chips Shop','Food Court','Fried Chicken Joint','Gourmet Shop','Pizza Place','Sandwich Place','Soup Place','Steakhouse','Taco Place','Noodle House'])\n",
    "restaurants_sum=toronto_grouped[str_restaurants].sum(axis=1)\n",
    "toronto_grouped.insert(loc=1,column='All restaurants',value=restaurants_sum)\n",
    "toronto_grouped.drop(columns=str_restaurants,inplace=True)\n",
    "\n",
    "# Merge all bar related places\n",
    "str_bars= [''] * len(toronto_grouped.columns)\n",
    "n=0\n",
    "for index, name in enumerate(toronto_grouped.columns):\n",
    "    if 'Bar' in name or 'Brewery' in name or 'club' in name or 'Pub' in name:\n",
    "        str_bars[n]=name\n",
    "        n=n+1\n",
    "while('' in str_bars):\n",
    "    str_bars.remove('')\n",
    "str_bars.extend(['Liquor Store'])\n",
    "str_bars_sum=toronto_grouped[str_bars].sum(axis=1)\n",
    "toronto_grouped.insert(loc=2,column='All bars',value=str_bars_sum)\n",
    "toronto_grouped.drop(columns=str_bars,inplace=True)\n",
    "\n",
    "# Merge all sport related places\n",
    "str_sports= [''] * len(toronto_grouped.columns)\n",
    "n=0\n",
    "for index, name in enumerate(toronto_grouped.columns):\n",
    "    if 'Gym' in name or 'Sport' in name:\n",
    "        str_sports[n]=name\n",
    "        n=n+1\n",
    "while('' in str_sports):\n",
    "    str_sports.remove('')\n",
    "str_sports.extend(['Yoga Studio'])\n",
    "sports_sum=toronto_grouped[str_sports].sum(axis=1)\n",
    "toronto_grouped.insert(loc=2,column='All sports',value=sports_sum)\n",
    "toronto_grouped.drop(columns=str_sports,inplace=True)\n",
    "\n",
    "# Merge all coffee related places\n",
    "str_coffee= [''] * len(toronto_grouped.columns)\n",
    "n=0\n",
    "for index, name in enumerate(toronto_grouped.columns):\n",
    "    if 'Coffee' in name or 'Café' in name:\n",
    "        str_coffee[n]=name\n",
    "        n=n+1\n",
    "while('' in str_coffee):\n",
    "    str_coffee.remove('')\n",
    "# str_nature.extend([''])\n",
    "print(str_coffee)\n",
    "coffee_sum=toronto_grouped[str_coffee].sum(axis=1)\n",
    "toronto_grouped.insert(loc=3,column='All coffee',value=coffee_sum)\n",
    "toronto_grouped.drop(columns=str_coffee,inplace=True)\n",
    "\n",
    "# Merge all nature related places\n",
    "str_nature= [''] * len(toronto_grouped.columns)\n",
    "n=0\n",
    "for index, name in enumerate(toronto_grouped.columns):\n",
    "    if 'Outdoor' in name or 'Park' in name or 'Lake' in name:\n",
    "        str_nature[n]=name\n",
    "        n=n+1\n",
    "while('' in str_nature):\n",
    "    str_nature.remove('')\n",
    "str_nature.extend(['Fountain'])\n",
    "nature_sum=toronto_grouped[str_nature].sum(axis=1)\n",
    "toronto_grouped.insert(loc=4,column='All nature',value=nature_sum)\n",
    "toronto_grouped.drop(columns=str_nature,inplace=True)\n",
    "\n",
    "toronto_grouped.head()"
   ]
  },
  {
   "source": [
    "#### 3.2.7 A function to sort the venues in descending order"
   ],
   "cell_type": "markdown",
   "metadata": {}
  },
  {
   "cell_type": "code",
   "execution_count": 210,
   "metadata": {},
   "outputs": [],
   "source": [
    "def return_most_common_venues(row, num_top_venues):\n",
    "    row_categories = row.iloc[1:]\n",
    "    row_categories_sorted = row_categories.sort_values(ascending=False)\n",
    "    \n",
    "    return row_categories_sorted.index.values[0:num_top_venues]"
   ]
  },
  {
   "source": [
    "#### 3.2.8 Run the function to sort the dataframe with the top 5 venues and append it back"
   ],
   "cell_type": "markdown",
   "metadata": {}
  },
  {
   "cell_type": "code",
   "execution_count": 219,
   "metadata": {},
   "outputs": [
    {
     "output_type": "execute_result",
     "data": {
      "text/plain": [
       "                                        Neighborhood  1st Most Common Venue  \\\n",
       "0                             Alderwood, Long Branch        All restaurants   \n",
       "1    Bathurst Manor, Wilson Heights, Downsview North        All restaurants   \n",
       "2                  Bedford Park, Lawrence Manor East        All restaurants   \n",
       "3                        Birch Cliff, Cliffside West             All coffee   \n",
       "4  CN Tower, King and Spadina, Railway Lands, Har...  Performing Arts Venue   \n",
       "\n",
       "  2nd Most Common Venue 3rd Most Common Venue 4th Most Common Venue  \\\n",
       "0            All coffee              Pharmacy                 Trail   \n",
       "1            All coffee         Grocery Store         Deli / Bodega   \n",
       "2            All coffee              All bars                Lawyer   \n",
       "3       All restaurants          Intersection       Organic Grocery   \n",
       "4             Pet Store       Organic Grocery           Opera House   \n",
       "\n",
       "   5th Most Common Venue  \n",
       "0           Intersection  \n",
       "1     Light Rail Station  \n",
       "2  Performing Arts Venue  \n",
       "3            Opera House  \n",
       "4            Music Venue  "
      ],
      "text/html": "<div>\n<style scoped>\n    .dataframe tbody tr th:only-of-type {\n        vertical-align: middle;\n    }\n\n    .dataframe tbody tr th {\n        vertical-align: top;\n    }\n\n    .dataframe thead th {\n        text-align: right;\n    }\n</style>\n<table border=\"1\" class=\"dataframe\">\n  <thead>\n    <tr style=\"text-align: right;\">\n      <th></th>\n      <th>Neighborhood</th>\n      <th>1st Most Common Venue</th>\n      <th>2nd Most Common Venue</th>\n      <th>3rd Most Common Venue</th>\n      <th>4th Most Common Venue</th>\n      <th>5th Most Common Venue</th>\n    </tr>\n  </thead>\n  <tbody>\n    <tr>\n      <th>0</th>\n      <td>Alderwood, Long Branch</td>\n      <td>All restaurants</td>\n      <td>All coffee</td>\n      <td>Pharmacy</td>\n      <td>Trail</td>\n      <td>Intersection</td>\n    </tr>\n    <tr>\n      <th>1</th>\n      <td>Bathurst Manor, Wilson Heights, Downsview North</td>\n      <td>All restaurants</td>\n      <td>All coffee</td>\n      <td>Grocery Store</td>\n      <td>Deli / Bodega</td>\n      <td>Light Rail Station</td>\n    </tr>\n    <tr>\n      <th>2</th>\n      <td>Bedford Park, Lawrence Manor East</td>\n      <td>All restaurants</td>\n      <td>All coffee</td>\n      <td>All bars</td>\n      <td>Lawyer</td>\n      <td>Performing Arts Venue</td>\n    </tr>\n    <tr>\n      <th>3</th>\n      <td>Birch Cliff, Cliffside West</td>\n      <td>All coffee</td>\n      <td>All restaurants</td>\n      <td>Intersection</td>\n      <td>Organic Grocery</td>\n      <td>Opera House</td>\n    </tr>\n    <tr>\n      <th>4</th>\n      <td>CN Tower, King and Spadina, Railway Lands, Har...</td>\n      <td>Performing Arts Venue</td>\n      <td>Pet Store</td>\n      <td>Organic Grocery</td>\n      <td>Opera House</td>\n      <td>Music Venue</td>\n    </tr>\n  </tbody>\n</table>\n</div>"
     },
     "metadata": {},
     "execution_count": 219
    }
   ],
   "source": [
    "num_top_venues = 5\n",
    "\n",
    "indicators = ['st', 'nd', 'rd']\n",
    "\n",
    "# create columns according to number of top venues\n",
    "columns = ['Neighborhood']\n",
    "for ind in np.arange(num_top_venues):\n",
    "    try:\n",
    "        columns.append('{}{} Most Common Venue'.format(ind+1, indicators[ind]))\n",
    "    except:\n",
    "        columns.append('{}th Most Common Venue'.format(ind+1))\n",
    "\n",
    "# create a new dataframe\n",
    "neighborhoods_venues_sorted = pd.DataFrame(columns=columns)\n",
    "neighborhoods_venues_sorted['Neighborhood'] = toronto_grouped['Neighborhood']\n",
    "\n",
    "for ind in np.arange(toronto_grouped.shape[0]):\n",
    "    neighborhoods_venues_sorted.iloc[ind, 1:] = return_most_common_venues(toronto_grouped.iloc[ind, :], num_top_venues)\n",
    "\n",
    "neighborhoods_venues_sorted.head()"
   ]
  },
  {
   "source": [
    "### 3.3 Perform analysis and clustering"
   ],
   "cell_type": "markdown",
   "metadata": {}
  },
  {
   "source": [
    "#### 3.3.1 Use K-means clustering"
   ],
   "cell_type": "markdown",
   "metadata": {}
  },
  {
   "cell_type": "code",
   "execution_count": null,
   "metadata": {},
   "outputs": [],
   "source": [
    "# set number of clusters\n",
    "clusters = 5\n",
    "toronto_grouped_clustering = toronto_grouped.drop('Neighborhood', 1)\n",
    "\n",
    "# run k-means clustering\n",
    "kmeans = KMeans(n_clusters=kclusters, random_state=6).fit(toronto_grouped_clustering)\n",
    "\n",
    "# check cluster labels generated for each row in the dataframe\n",
    "kmeans.labels_[0:10] "
   ]
  },
  {
   "source": [
    "#### 3.3.2 Create a new dataframe that includes the cluster as well as the top 5 venues for each neighborhood"
   ],
   "cell_type": "markdown",
   "metadata": {}
  },
  {
   "cell_type": "code",
   "execution_count": null,
   "metadata": {},
   "outputs": [],
   "source": [
    "# add clustering labels\n",
    "if 'Cluster Labels' in neighborhoods_venues_sorted.columns:\n",
    "    neighborhoods_venues_sorted.drop(['Cluster Labels'],axis=1,inplace=True)\n",
    "\n",
    "neighborhoods_venues_sorted.insert(0, 'Cluster Labels', kmeans.labels_)\n",
    "\n",
    "toronto_merged = df\n",
    "\n",
    "# merge toronto_grouped with df to add latitude/longitude for each neighborhood\n",
    "toronto_merged = toronto_merged.join(neighborhoods_venues_sorted.set_index('Neighborhood'), on='Neighborhood')\n",
    "toronto_merged.dropna(inplace=True)\n",
    "toronto_merged['Cluster Labels']=toronto_merged['Cluster Labels'].astype(int)\n",
    "neighborhoods_venues_sorted.head()"
   ]
  },
  {
   "source": [
    "#### Visualize the clusters"
   ],
   "cell_type": "markdown",
   "metadata": {}
  },
  {
   "cell_type": "code",
   "execution_count": null,
   "metadata": {},
   "outputs": [],
   "source": [
    "address = 'Toronto'\n",
    "\n",
    "geolocator = Nominatim(user_agent=\"toronto_explorer\")\n",
    "location = geolocator.geocode(address)\n",
    "latitude = location.latitude\n",
    "longitude = location.longitude\n",
    "# print('The geograpical coordinate of Toronto are {}, {}.'.format(latitude, longitude))"
   ]
  }
 ]
}